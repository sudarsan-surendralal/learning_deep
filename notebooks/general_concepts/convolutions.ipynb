{
 "cells": [
  {
   "cell_type": "code",
   "execution_count": 1,
   "id": "artistic-indonesian",
   "metadata": {},
   "outputs": [],
   "source": [
    "import numpy as np\n",
    "import tensorflow as tf\n",
    "import numpy as np\n",
    "import matplotlib.pylab as plt\n",
    "from scipy import misc\n"
   ]
  },
  {
   "cell_type": "code",
   "execution_count": 2,
   "id": "cellular-reward",
   "metadata": {},
   "outputs": [],
   "source": [
    "(X_train, y_train), (_, _) = tf.keras.datasets.fashion_mnist.load_data()\n",
    "\n",
    "X_train = X_train / 255"
   ]
  },
  {
   "cell_type": "code",
   "execution_count": 3,
   "id": "hindu-prague",
   "metadata": {},
   "outputs": [
    {
     "data": {
      "image/png": "[encoded data removed]",
      "text/plain": [
       "<Figure size 432x288 with 1 Axes>"
      ]
     },
     "metadata": {
      "needs_background": "light"
     },
     "output_type": "display_data"
    }
   ],
   "source": [
    "image = X_train[12]\n",
    "\n",
    "#image = misc.ascent()\n",
    "plt.imshow(image, cmap=\"Greys\", interpolation=\"nearest\");"
   ]
  },
  {
   "cell_type": "code",
   "execution_count": 4,
   "id": "twenty-gathering",
   "metadata": {},
   "outputs": [
    {
     "data": {
      "image/png": "[encoded data removed]",
      "text/plain": [
       "<Figure size 432x288 with 1 Axes>"
      ]
     },
     "metadata": {
      "needs_background": "light"
     },
     "output_type": "display_data"
    }
   ],
   "source": [
    "# EDGE DETECTION\n",
    "filter_mat = np.ones((3, 3)) * -1\n",
    "filter_mat[1, 1] = 8\n",
    "\n",
    "#Sharpen\n",
    "#filter_mat = np.array([[0, -1, 0], [-1, 5, -1], [0, -1, 0]])\n",
    "weight  = 1\n",
    "if int(np.sum(filter_mat)) not in [0, 1]:\n",
    "    weight = np.sum(filter_mat)\n",
    "new_image = np.zeros_like(image)\n",
    "\n",
    "for i in range(1, new_image.shape[0]-1):\n",
    "    for j in range(1, new_image.shape[0]-1):\n",
    "        new_image[i, j] = np.sum(image[i-1:i+2, j-1:j+2] * filter_mat * weight)\n",
    "\n",
    "new_image[new_image < 0] = 0.0\n",
    "new_image[new_image >= 1] = 1.0\n",
    "\n",
    "plt.imshow(new_image, cmap=\"Greys\");"
   ]
  },
  {
   "cell_type": "code",
   "execution_count": 5,
   "id": "damaged-modification",
   "metadata": {},
   "outputs": [
    {
     "data": {
      "image/png": "[encoded data removed]",
      "text/plain": [
       "<Figure size 432x288 with 1 Axes>"
      ]
     },
     "metadata": {
      "needs_background": "light"
     },
     "output_type": "display_data"
    }
   ],
   "source": [
    "# Do pooling\n",
    "\n",
    "final_image = np.zeros((int(new_image.shape[0]/2), int(new_image.shape[1]/ 2)))\n",
    "\n",
    "for i in range(0, new_image.shape[0], 2):\n",
    "    for j in range(0, new_image.shape[1], 2):\n",
    "        final_image[int(i/2), int(j/2)] = np.max([new_image[i, j], new_image[i+1, j], new_image[i, j+1], new_image[i+1, j+1]])\n",
    "plt.imshow(final_image, cmap=\"Greys\");"
   ]
  },
  {
   "cell_type": "code",
   "execution_count": null,
   "id": "persistent-exclusion",
   "metadata": {},
   "outputs": [],
   "source": []
  }
 ],
 "metadata": {
  "kernelspec": {
   "display_name": "Python 3",
   "language": "python",
   "name": "python3"
  },
  "language_info": {
   "codemirror_mode": {
    "name": "ipython",
    "version": 3
   },
   "file_extension": ".py",
   "mimetype": "text/x-python",
   "name": "python",
   "nbconvert_exporter": "python",
   "pygments_lexer": "ipython3",
   "version": "3.9.2"
  }
 },
 "nbformat": 4,
 "nbformat_minor": 5
}
